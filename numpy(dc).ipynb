{
 "cells": [
  {
   "cell_type": "markdown",
   "metadata": {},
   "source": [
    "Numpy array can contain only a single data type"
   ]
  },
  {
   "cell_type": "code",
   "execution_count": null,
   "metadata": {},
   "outputs": [],
   "source": [
    "import numpy as np\n",
    "import matplotlib.pyplot as plt"
   ]
  },
  {
   "cell_type": "code",
   "execution_count": null,
   "metadata": {},
   "outputs": [],
   "source": [
    "# creating 1D array from a list\n",
    "# converting a python list to a numpy array\n",
    "\n",
    "python_list = [1, 2, 3, 4, 5]\n",
    "numpy_array = np.array(python_list)\n",
    "print(numpy_array)\n",
    "print(type(numpy_array))\n",
    "print(type(python_list))"
   ]
  },
  {
   "cell_type": "code",
   "execution_count": null,
   "metadata": {},
   "outputs": [],
   "source": [
    "#### creating 2D array from a list of lists\n",
    "\n",
    "python_list_of_lists = [[1, 2, 3], \n",
    "                        [4, 5, 6], \n",
    "                        [7, 8, 9]]\n",
    "numpy_array = np.array(python_list_of_lists)\n",
    "print(numpy_array)\n",
    "print(type(numpy_array))"
   ]
  },
  {
   "cell_type": "code",
   "execution_count": null,
   "metadata": {},
   "outputs": [],
   "source": [
    "# creating arrays from scratch\n",
    "\n",
    "# creating an array of zeros\n",
    "print(np.zeros((4,3))) # we pass a tuple with the dimensions of the array\n",
    "\n",
    "print()\n",
    "\n",
    "# creating an array of random numbers\n",
    "print(np.random.random((2,4))) # It also accepts a tuple with the dimensions of the array\n",
    "#why np.random.random is used?--> np.random is a subpackage of numpy and random is a function in it. random function generates random numbers between 0 and 1.\n",
    "\n",
    "print()\n",
    "\n",
    "# creating an array withing a range\n",
    "print(np.arange(10)) # It creates an array with numbers from 0 to 9\n",
    "\n",
    "print()\n",
    "\n",
    "print(np.arange(-3,4)) # It creates an array with numbers from -3 to 3\n",
    "\n",
    "#np.arange is particularly used for plotting graphs\n",
    "from matplotlib import pyplot as plt\n",
    "plt.scatter (np.arange(0,7), \n",
    "             np.arange(-3,4))\n",
    "plt.show"
   ]
  },
  {
   "cell_type": "markdown",
   "metadata": {},
   "source": [
    "# Array dimensionility\n"
   ]
  },
  {
   "cell_type": "code",
   "execution_count": null,
   "metadata": {},
   "outputs": [],
   "source": [
    "# 3D arrays (We can create 3D arrays by creating a list of lists of lists)\n",
    "array1_2D = np.array([[1, 2, 3],\n",
    "                      [4, 5, 6],])\n",
    "array2_2D = np.array([[7, 8, 9],\n",
    "                      [10, 11, 12]])\n",
    "array_3D = np.array([array1_2D, array2_2D])\n",
    "print(array_3D)\n",
    "\n",
    "print()\n",
    "#or \n",
    "\n",
    "array3D = np.array([[[1, 2, 3],\n",
    "                        [4, 5, 6]],\n",
    "                         [[7, 8, 9],\n",
    "                        [10, 11, 12]]])\n",
    "print(array3D)\n",
    "    "
   ]
  },
  {
   "cell_type": "code",
   "execution_count": null,
   "metadata": {},
   "outputs": [],
   "source": [
    "# Shapeshifting\n",
    "array = np.zeros((2,5))\n",
    "print(array.shape) # It returns the dimensions of the array\n",
    "print()\n",
    "\n",
    "#flateening the array\n",
    "array = np.array([[1, 2], [3, 4], [5, 6]])\n",
    "print()\n",
    "print(array)\n",
    "print() \n",
    "print(array.flatten()) # It returns a 1D array with all the elements of the original array\n",
    "print()\n",
    "\n",
    "#reshaping the array\n",
    "array.reshape(2,3) # It reshapes the array to the specified dimensions"
   ]
  },
  {
   "cell_type": "markdown",
   "metadata": {},
   "source": [
    "### Indexing and slicing an array"
   ]
  },
  {
   "cell_type": "code",
   "execution_count": null,
   "metadata": {},
   "outputs": [],
   "source": [
    "# indexing 1D array\n",
    "array = np.array([1, 2, 3, 4, 5,7])\n",
    "print(array[3])\n",
    "\n",
    "#slicing 1D array\n",
    "print(array[2:5]) # It returns the elements from index 2 to 4\n",
    "\n",
    "\n",
    "# indexing 2D array\n",
    "array2 = np.array([[1, 12, 53, 4], [4, 51, 6,7],[17, 84, 9, 10],[10, 11, 12, 13]])\n",
    "print(array2[1,2]) # It returns the element in the second row and third  column\n",
    "\n",
    "#indexing rows and columns in 2D array\n",
    "print(array2[1]) # It returns the second row\n",
    "print(array2[:,2]) # It returns the third column\n",
    "\n",
    "print()\n",
    "#slicing 2D array\n",
    "print(array2[0:2, 1:3]) # It returns the first two rows and the second and third columns\n",
    "\n",
    "print()\n",
    "# slicing with steps\n",
    "print(array2[0:3:2, 0:3:2]) # It returns the first and third rows and the first and third \n",
    "print()\n",
    "\n",
    "print(np.sort(array2)) # It sorts the array in ascending order\n",
    "print()\n",
    "print(np.sort(array2, axis =0)) # It sorts the array in ascending order along the columns"
   ]
  },
  {
   "cell_type": "markdown",
   "metadata": {},
   "source": [
    "#### filtering arrays\n",
    "There are two ways to filter\n",
    "1. Masks and fancy indexing\n",
    "2. np.where()"
   ]
  },
  {
   "cell_type": "code",
   "execution_count": null,
   "metadata": {},
   "outputs": [],
   "source": [
    "#boolean indexing\n",
    "one_five = np.arange(1,6)\n",
    "print(one_five)\n",
    "mask = one_five > 3\n",
    "print(mask)\n",
    "\n",
    "#flitering with fancy indexing\n",
    "mask = one_five > 3\n",
    "print(one_five[mask]) # It returns the elements that are greater than \n",
    "\n",
    "#2D fancy indexing\n",
    "classroom_ids_and_grades = np.array([[1, 45], [2, 35], [3, 22], [4, 59], [5, 80],])\n",
    "mask = classroom_ids_and_grades[:,1] > 40\n",
    "print(classroom_ids_and_grades[mask])\n",
    "\n",
    "#using np.where()\n",
    "np.where(classroom_ids_and_grades[:,1]>40) # return the index\n",
    "\n",
    "#find and replace\n",
    "np.where(classroom_ids_and_grades %2== 0, \" \" ,classroom_ids_and_grades) # It replaces the even numbers with an empty string"
   ]
  },
  {
   "cell_type": "code",
   "execution_count": null,
   "metadata": {},
   "outputs": [],
   "source": [
    "# concatenating rows\n",
    "classroom1 = np.array([[1, 45], [2, 35], [3, 22]])\n",
    "classroom2 = np.array([[4, 59], [5, 80]])\n",
    "classroom = np.concatenate((classroom1, classroom2)) # It concatenates the two arrays along the rows, passing a tuple with the arrays to concatenate\n",
    "print(classroom)\n",
    "\n",
    "# concatenating columns\n",
    "class_and_roll = np.array([[1, 5], [1, 25], [1, 8]])\n",
    "name_and_marks = np.array([[\"A\", 45], [\"B\", 35], [\"C\", 22]])\n",
    "print(np.concatenate((class_and_roll, name_and_marks), axis = 1)) # It concatenates the two arrays along the columns\n",
    "\n",
    "#creating compatibility(reshaping)\n",
    "array_1D = np.array([1, 2, 3, 4, 5])\n",
    "column_array_2D = np.reshape(array_1D, (5, 1)) # It reshapes the 1D array to a 2D array with one column\n",
    "print(column_array_2D)\n"
   ]
  },
  {
   "cell_type": "code",
   "execution_count": null,
   "metadata": {},
   "outputs": [],
   "source": [
    "arr = np.array([['1' , '5' , 'A' ,'45'],\n",
    "                ['1' , '25' , 'B' , '35'],\n",
    "                ['1' , '8' , 'C' , '22']])\n",
    "np.delete(arr, 1, axis = 0) # It deletes the second row of the array \n",
    "np.delete(arr, 1, axis = 1) # It deletes the second column of the array\n",
    "\n",
    "# if no axis is specified, the array is flattened before deletion\n",
    "# np.delete takes the array and the index of the element to delete as arguments\n",
    "# axis = 0 deletes rows and axis = 1 deletes columns"
   ]
  },
  {
   "cell_type": "markdown",
   "metadata": {},
   "source": [
    "## Array mathematics"
   ]
  },
  {
   "cell_type": "code",
   "execution_count": null,
   "metadata": {},
   "outputs": [],
   "source": [
    "security_breaches = np.array([[0,5,1],\n",
    "                              [1,2,3], \n",
    "                              [4,5,6]])\n",
    "print(security_breaches.sum()) # It returns the sum of all the elements in the array\n",
    "print(security_breaches.sum(axis = 0)) # It returns the sum of the elements along the columns\n",
    "print(security_breaches.sum(axis = 1)) # It returns the sum of the elements along the rows\n",
    "print(security_breaches.min()) # It returns the minimum value in the array\n",
    "print(security_breaches.min(axis = 0)) # It returns the minimum value along the columns \n",
    "print(security_breaches.min(axis = 1)) # It returns the minimum value along the rows    \n",
    "print(security_breaches.max()) # It returns the maximum value in the array\n",
    "print(security_breaches.max(axis = 0)) # It returns the maximum value along the columns\n",
    "print(security_breaches.max(axis = 1)) # It returns the maximum value along the rows\n",
    "print(security_breaches.mean()) # It returns the mean of all the elements in the array\n",
    "print(security_breaches.mean(axis = 0)) # It returns the mean of the elements along the columns\n",
    "print(security_breaches.mean(axis = 1)) # It returns the mean of the elements along the rows\n",
    "print(security_breaches.std()) # It returns the standard deviation of all the elements in the array\n",
    "print(security_breaches.std(axis = 0)) # It returns the standard deviation of the elements along the columns\n",
    "print(security_breaches.std(axis = 1)) # It returns the standard deviation of the elements along the rows\n",
    "\n",
    "# keepdims parameter\n",
    "print(security_breaches.sum(axis = 0, keepdims = True)) # It returns the sum of the elements along the columns with the dimensions of the original rray preserved"
   ]
  },
  {
   "cell_type": "code",
   "execution_count": null,
   "metadata": {},
   "outputs": [],
   "source": [
    "security_breaches = np.array([[0,5,1],\n",
    "                              [1,2,3], \n",
    "                              [4,5,6]])\n",
    "cum_sums_by_clients = security_breaches.cumsum(axis=0)\n",
    "plt.plot(np.arange(1,4),cum_sums_by_clients[:,0],label = \"client 1\")\n",
    "plt.plot(np.arange(1,4),cum_sums_by_clients.mean(axis = 1) ,label = \"average\")\n"
   ]
  },
  {
   "cell_type": "markdown",
   "metadata": {},
   "source": [
    "### Vectorized operations\n",
    "Numpy is much faster than python"
   ]
  },
  {
   "cell_type": "code",
   "execution_count": null,
   "metadata": {},
   "outputs": [],
   "source": [
    "print(np.arange(10000).sum())\n",
    "arr_a = np.array([[1,2,3],[4,5,6]])\n",
    "arr_b = np.array([[2,4,6],[1,3,5]])\n",
    "print(arr_a+3)\n",
    "print(arr_b*3)\n",
    "print(arr_a + arr_b)\n",
    "print(arr_a * arr_b)\n",
    "\n",
    "print()\n",
    "print(arr_a>2)\n",
    "\n",
    "print()\n",
    "#vectorizing python code\n",
    "array = np.array([\"Machine\", \"Learning\", \"is\", \"my\", \"passion\"])\n",
    "print(len(array)>2) # return true if array has more than two elements . It returns a boolean value, doesn't return array  \n",
    "\n",
    "vectorized_len = np.vectorize(len) \n",
    "vectorized_len(array) > 2 # It returns an array of boolean values indicating whether the length of each element is greater than 2\n",
    "\n",
    "# Vectorizing.upper() method\n",
    "names = np.array([[\"Izzy\", \"Monica\", \"Marvin\"],\n",
    "                  [\"Weber\", \"Patel\", \"Hernandez\"]])\n",
    "\n",
    "vectorized_upper = np.vectorize(str.upper) # It creates a vectorized version of the upper() method to apply it to the array\n",
    "print(vectorized_upper(names)) # It returns an array with all the elements in uppercase\n"
   ]
  },
  {
   "cell_type": "markdown",
   "metadata": {},
   "source": [
    "### Broadcasting\n",
    "Broadcasting takes vectorized operation to next level\n",
    "we covered vectorized operations between arrays of the same size or between an array and a scalar. It's also possible to perform mathematical operations between arrays of different shapes. Since this involves \"broadcasting\", or stretching the smaller array across the larger one, the conventions that govern this type of array math are called \"broadcasting.\""
   ]
  },
  {
   "cell_type": "code",
   "execution_count": null,
   "metadata": {},
   "outputs": [],
   "source": [
    "import numpy as np\n",
    "\n",
    "# Create a scalar value\n",
    "scalar = 5\n",
    "\n",
    "# Create a 1D array\n",
    "array = np.array([1, 2, 3, 4, 5])\n",
    "\n",
    "# Multiply the scalar with the array\n",
    "result = scalar * array\n",
    "\n",
    "# The scalar value is broadcasted to match the shape of the array\n",
    "# Each element in the array is multiplied by the scalar\n",
    "print(result)  # Output: [5 10 15 20 25]\n",
    "\n",
    "# Create a 2D array\n",
    "array = np.array([[1, 2, 3],\n",
    "                  [4, 5, 6]])\n",
    "\n",
    "# Add a scalar value to the array\n",
    "result = array + 2\n",
    "print(result)\n",
    "\n",
    "\n"
   ]
  },
  {
   "cell_type": "code",
   "execution_count": null,
   "metadata": {},
   "outputs": [],
   "source": [
    "# loading .npy files\n",
    "with open(\"rgb_array.npy\" , \"rb\") as f:\n",
    "    rgb_array = np.load(f)\n",
    "    print(rgb_array)\n",
    "    plt.imshow(rgb_array) # It displays the image stored in the array using matplotlib\n",
    "    plt.show()\n",
    "\n",
    "    # inside with open() the first argument is the name of the file and the second argument is the mode in which the file is opened. \"rb\" stands for read binary mode and f is the file object(It can be named any).\n",
    "\n",
    "\n",
    "# examining rgb_array\n",
    "\n",
    "red_array = rgb_array[:,:,0]\n",
    "blue_array = rgb_array[:,:,1]   \n",
    "green_array = rgb_array[:,:,2]  \n",
    "\n",
    "# print(red_array[1])\n",
    "# print(blue_array[1])    \n",
    "# print(green_array[1])   \n",
    "\n",
    "plt.imshow(red_array)\n",
    "plt.show()\n",
    "\n",
    "plt.imshow(blue_array)  \n",
    "plt.show()\n",
    " \n",
    "plt.imshow(green_array)\n",
    "plt.show()\n",
    "\n",
    "# updating the array\n",
    "\n",
    "dark_array = np.where(rgb_array == 255,50, rgb_array)\n",
    "plt.imshow(dark_array)\n",
    "plt.show()\n",
    "\n",
    "# saving the array as a .npy file\n",
    "with open(\"dark_array.npy\", \"wb\") as f:  # It creates a new file named dark_array.npy in write binary mode\n",
    "    np.save(f, dark_array)"
   ]
  },
  {
   "cell_type": "markdown",
   "metadata": {},
   "source": [
    "### Array Acrobatics"
   ]
  },
  {
   "cell_type": "code",
   "execution_count": null,
   "metadata": {},
   "outputs": [],
   "source": [
    "#flipping an array\n",
    "flipped_rgb = np.flip(rgb_array)\n",
    "plt.imshow(flipped_rgb)\n",
    "plt.show()\n",
    "\n",
    "#flipping along the axis\n",
    "flipped_rgb = np.flip(rgb_array, axis = 0)\n",
    "plt.imshow(flipped_rgb)\n",
    "plt.show()\n",
    "\n",
    "# Transposing an array\n",
    "array2D = np.array([[1, 2, 3], \n",
    "                    [4, 5, 6],\n",
    "                    [7, 8, 9]])\n",
    "np.flip(array2D) # It flips the array along both axes\n",
    "np.transpose(array2D) # It transposes the array i.e. rows become columns and columns become rows"
   ]
  }
 ],
 "metadata": {
  "kernelspec": {
   "display_name": "base",
   "language": "python",
   "name": "python3"
  },
  "language_info": {
   "codemirror_mode": {
    "name": "ipython",
    "version": 3
   },
   "file_extension": ".py",
   "mimetype": "text/x-python",
   "name": "python",
   "nbconvert_exporter": "python",
   "pygments_lexer": "ipython3",
   "version": "3.11.5"
  }
 },
 "nbformat": 4,
 "nbformat_minor": 2
}
